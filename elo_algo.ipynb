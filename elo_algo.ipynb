{
 "cells": [
  {
   "cell_type": "code",
   "execution_count": 10,
   "metadata": {},
   "outputs": [
    {
     "data": {
      "text/html": [
       "<div>\n",
       "<style>\n",
       "    .dataframe thead tr:only-child th {\n",
       "        text-align: right;\n",
       "    }\n",
       "\n",
       "    .dataframe thead th {\n",
       "        text-align: left;\n",
       "    }\n",
       "\n",
       "    .dataframe tbody tr th {\n",
       "        vertical-align: top;\n",
       "    }\n",
       "</style>\n",
       "<table border=\"1\" class=\"dataframe\">\n",
       "  <thead>\n",
       "    <tr style=\"text-align: right;\">\n",
       "      <th></th>\n",
       "      <th>name</th>\n",
       "      <th>games</th>\n",
       "      <th>birth_year</th>\n",
       "      <th>rating</th>\n",
       "    </tr>\n",
       "  </thead>\n",
       "  <tbody>\n",
       "    <tr>\n",
       "      <th>0</th>\n",
       "      <td>Kasparov, Garry</td>\n",
       "      <td>35</td>\n",
       "      <td>1963</td>\n",
       "      <td>2849</td>\n",
       "    </tr>\n",
       "    <tr>\n",
       "      <th>1</th>\n",
       "      <td>Kramnik, Vladimir</td>\n",
       "      <td>23</td>\n",
       "      <td>1975</td>\n",
       "      <td>2770</td>\n",
       "    </tr>\n",
       "    <tr>\n",
       "      <th>2</th>\n",
       "      <td>Anand, Viswanathan</td>\n",
       "      <td>23</td>\n",
       "      <td>1969</td>\n",
       "      <td>2762</td>\n",
       "    </tr>\n",
       "    <tr>\n",
       "      <th>3</th>\n",
       "      <td>Morozevich, Alexander</td>\n",
       "      <td>28</td>\n",
       "      <td>1977</td>\n",
       "      <td>2756</td>\n",
       "    </tr>\n",
       "    <tr>\n",
       "      <th>4</th>\n",
       "      <td>Adams, Michael</td>\n",
       "      <td>38</td>\n",
       "      <td>1971</td>\n",
       "      <td>2755</td>\n",
       "    </tr>\n",
       "    <tr>\n",
       "      <th>5</th>\n",
       "      <td>Shirov, Alexei</td>\n",
       "      <td>33</td>\n",
       "      <td>1972</td>\n",
       "      <td>2746</td>\n",
       "    </tr>\n",
       "    <tr>\n",
       "      <th>6</th>\n",
       "      <td>Leko, Peter</td>\n",
       "      <td>29</td>\n",
       "      <td>1979</td>\n",
       "      <td>2743</td>\n",
       "    </tr>\n",
       "    <tr>\n",
       "      <th>7</th>\n",
       "      <td>Ivanchuk, Vassily</td>\n",
       "      <td>10</td>\n",
       "      <td>1969</td>\n",
       "      <td>2719</td>\n",
       "    </tr>\n",
       "    <tr>\n",
       "      <th>8</th>\n",
       "      <td>Topalov, Veselin</td>\n",
       "      <td>11</td>\n",
       "      <td>1975</td>\n",
       "      <td>2707</td>\n",
       "    </tr>\n",
       "    <tr>\n",
       "      <th>9</th>\n",
       "      <td>Krasenkow, Michal</td>\n",
       "      <td>61</td>\n",
       "      <td>1963</td>\n",
       "      <td>2702</td>\n",
       "    </tr>\n",
       "    <tr>\n",
       "      <th>10</th>\n",
       "      <td>Bareev, Evgeny</td>\n",
       "      <td>17</td>\n",
       "      <td>1966</td>\n",
       "      <td>2702</td>\n",
       "    </tr>\n",
       "    <tr>\n",
       "      <th>11</th>\n",
       "      <td>Karpov, Anatoly</td>\n",
       "      <td>11</td>\n",
       "      <td>1951</td>\n",
       "      <td>2699</td>\n",
       "    </tr>\n",
       "    <tr>\n",
       "      <th>12</th>\n",
       "      <td>Kasimdzhanov, Rustam</td>\n",
       "      <td>44</td>\n",
       "      <td>1979</td>\n",
       "      <td>2690</td>\n",
       "    </tr>\n",
       "    <tr>\n",
       "      <th>13</th>\n",
       "      <td>Svidler, Peter</td>\n",
       "      <td>9</td>\n",
       "      <td>1976</td>\n",
       "      <td>2689</td>\n",
       "    </tr>\n",
       "    <tr>\n",
       "      <th>14</th>\n",
       "      <td>Gelfand, Boris</td>\n",
       "      <td>27</td>\n",
       "      <td>1968</td>\n",
       "      <td>2681</td>\n",
       "    </tr>\n",
       "    <tr>\n",
       "      <th>15</th>\n",
       "      <td>Short, Nigel D.</td>\n",
       "      <td>44</td>\n",
       "      <td>1965</td>\n",
       "      <td>2677</td>\n",
       "    </tr>\n",
       "    <tr>\n",
       "      <th>16</th>\n",
       "      <td>Smirin, Ilia</td>\n",
       "      <td>25</td>\n",
       "      <td>1968</td>\n",
       "      <td>2677</td>\n",
       "    </tr>\n",
       "    <tr>\n",
       "      <th>17</th>\n",
       "      <td>Dreev, Alexey</td>\n",
       "      <td>26</td>\n",
       "      <td>1969</td>\n",
       "      <td>2676</td>\n",
       "    </tr>\n",
       "    <tr>\n",
       "      <th>18</th>\n",
       "      <td>Azmaiparashvili, Zurab</td>\n",
       "      <td>0</td>\n",
       "      <td>1960</td>\n",
       "      <td>2673</td>\n",
       "    </tr>\n",
       "    <tr>\n",
       "      <th>19</th>\n",
       "      <td>Ye, Jiangchuan</td>\n",
       "      <td>45</td>\n",
       "      <td>1960</td>\n",
       "      <td>2670</td>\n",
       "    </tr>\n",
       "    <tr>\n",
       "      <th>20</th>\n",
       "      <td>Rublevsky, Sergei</td>\n",
       "      <td>24</td>\n",
       "      <td>1974</td>\n",
       "      <td>2670</td>\n",
       "    </tr>\n",
       "    <tr>\n",
       "      <th>21</th>\n",
       "      <td>Xu, Jun</td>\n",
       "      <td>75</td>\n",
       "      <td>1962</td>\n",
       "      <td>2668</td>\n",
       "    </tr>\n",
       "    <tr>\n",
       "      <th>22</th>\n",
       "      <td>Almasi, Zoltan</td>\n",
       "      <td>25</td>\n",
       "      <td>1976</td>\n",
       "      <td>2668</td>\n",
       "    </tr>\n",
       "    <tr>\n",
       "      <th>23</th>\n",
       "      <td>Gurevich, Mikhail</td>\n",
       "      <td>50</td>\n",
       "      <td>1959</td>\n",
       "      <td>2667</td>\n",
       "    </tr>\n",
       "    <tr>\n",
       "      <th>24</th>\n",
       "      <td>Khalifman, Alexander</td>\n",
       "      <td>35</td>\n",
       "      <td>1966</td>\n",
       "      <td>2667</td>\n",
       "    </tr>\n",
       "    <tr>\n",
       "      <th>25</th>\n",
       "      <td>Movsesian, Sergei</td>\n",
       "      <td>48</td>\n",
       "      <td>1978</td>\n",
       "      <td>2666</td>\n",
       "    </tr>\n",
       "    <tr>\n",
       "      <th>26</th>\n",
       "      <td>Georgiev, Kiril</td>\n",
       "      <td>22</td>\n",
       "      <td>1965</td>\n",
       "      <td>2661</td>\n",
       "    </tr>\n",
       "    <tr>\n",
       "      <th>27</th>\n",
       "      <td>Akopian, Vladimir</td>\n",
       "      <td>20</td>\n",
       "      <td>1971</td>\n",
       "      <td>2660</td>\n",
       "    </tr>\n",
       "    <tr>\n",
       "      <th>28</th>\n",
       "      <td>Peng, Xiaomin</td>\n",
       "      <td>76</td>\n",
       "      <td>1973</td>\n",
       "      <td>2657</td>\n",
       "    </tr>\n",
       "    <tr>\n",
       "      <th>29</th>\n",
       "      <td>Nikolic, Predrag</td>\n",
       "      <td>24</td>\n",
       "      <td>1960</td>\n",
       "      <td>2657</td>\n",
       "    </tr>\n",
       "    <tr>\n",
       "      <th>...</th>\n",
       "      <td>...</td>\n",
       "      <td>...</td>\n",
       "      <td>...</td>\n",
       "      <td>...</td>\n",
       "    </tr>\n",
       "    <tr>\n",
       "      <th>11481</th>\n",
       "      <td>Smirin, Ilia</td>\n",
       "      <td>0</td>\n",
       "      <td>1968</td>\n",
       "      <td>2676</td>\n",
       "    </tr>\n",
       "    <tr>\n",
       "      <th>11482</th>\n",
       "      <td>Van Wely, Loek</td>\n",
       "      <td>14</td>\n",
       "      <td>1972</td>\n",
       "      <td>2675</td>\n",
       "    </tr>\n",
       "    <tr>\n",
       "      <th>11483</th>\n",
       "      <td>Sutovsky, Emil</td>\n",
       "      <td>9</td>\n",
       "      <td>1977</td>\n",
       "      <td>2675</td>\n",
       "    </tr>\n",
       "    <tr>\n",
       "      <th>11484</th>\n",
       "      <td>Morozevich, Alexander</td>\n",
       "      <td>0</td>\n",
       "      <td>1977</td>\n",
       "      <td>2675</td>\n",
       "    </tr>\n",
       "    <tr>\n",
       "      <th>11485</th>\n",
       "      <td>Ni, Hua</td>\n",
       "      <td>3</td>\n",
       "      <td>1983</td>\n",
       "      <td>2674</td>\n",
       "    </tr>\n",
       "    <tr>\n",
       "      <th>11486</th>\n",
       "      <td>Akobian, Varuzhan</td>\n",
       "      <td>9</td>\n",
       "      <td>1983</td>\n",
       "      <td>2673</td>\n",
       "    </tr>\n",
       "    <tr>\n",
       "      <th>11487</th>\n",
       "      <td>Markus, Robert</td>\n",
       "      <td>16</td>\n",
       "      <td>1983</td>\n",
       "      <td>2672</td>\n",
       "    </tr>\n",
       "    <tr>\n",
       "      <th>11488</th>\n",
       "      <td>Amin, Bassem</td>\n",
       "      <td>10</td>\n",
       "      <td>1988</td>\n",
       "      <td>2672</td>\n",
       "    </tr>\n",
       "    <tr>\n",
       "      <th>11489</th>\n",
       "      <td>Motylev, Alexander</td>\n",
       "      <td>7</td>\n",
       "      <td>1979</td>\n",
       "      <td>2672</td>\n",
       "    </tr>\n",
       "    <tr>\n",
       "      <th>11490</th>\n",
       "      <td>Adhiban, B.</td>\n",
       "      <td>9</td>\n",
       "      <td>1992</td>\n",
       "      <td>2670</td>\n",
       "    </tr>\n",
       "    <tr>\n",
       "      <th>11491</th>\n",
       "      <td>Negi, Parimarjan</td>\n",
       "      <td>0</td>\n",
       "      <td>1993</td>\n",
       "      <td>2670</td>\n",
       "    </tr>\n",
       "    <tr>\n",
       "      <th>11492</th>\n",
       "      <td>Laznicka, Viktor</td>\n",
       "      <td>13</td>\n",
       "      <td>1988</td>\n",
       "      <td>2669</td>\n",
       "    </tr>\n",
       "    <tr>\n",
       "      <th>11493</th>\n",
       "      <td>Sasikiran, Krishnan</td>\n",
       "      <td>0</td>\n",
       "      <td>1981</td>\n",
       "      <td>2669</td>\n",
       "    </tr>\n",
       "    <tr>\n",
       "      <th>11494</th>\n",
       "      <td>Akopian, Vladimir</td>\n",
       "      <td>0</td>\n",
       "      <td>1971</td>\n",
       "      <td>2667</td>\n",
       "    </tr>\n",
       "    <tr>\n",
       "      <th>11495</th>\n",
       "      <td>Hou, Yifan</td>\n",
       "      <td>9</td>\n",
       "      <td>1994</td>\n",
       "      <td>2666</td>\n",
       "    </tr>\n",
       "    <tr>\n",
       "      <th>11496</th>\n",
       "      <td>Bareev, Evgeny</td>\n",
       "      <td>0</td>\n",
       "      <td>1966</td>\n",
       "      <td>2666</td>\n",
       "    </tr>\n",
       "    <tr>\n",
       "      <th>11497</th>\n",
       "      <td>Iturrizaga Bonelli, Eduardo</td>\n",
       "      <td>0</td>\n",
       "      <td>1989</td>\n",
       "      <td>2663</td>\n",
       "    </tr>\n",
       "    <tr>\n",
       "      <th>11498</th>\n",
       "      <td>Tkachiev, Vladislav</td>\n",
       "      <td>0</td>\n",
       "      <td>1973</td>\n",
       "      <td>2660</td>\n",
       "    </tr>\n",
       "    <tr>\n",
       "      <th>11499</th>\n",
       "      <td>Mareco, Sandro</td>\n",
       "      <td>18</td>\n",
       "      <td>1987</td>\n",
       "      <td>2659</td>\n",
       "    </tr>\n",
       "    <tr>\n",
       "      <th>11500</th>\n",
       "      <td>Anton Guijarro, David</td>\n",
       "      <td>11</td>\n",
       "      <td>1995</td>\n",
       "      <td>2659</td>\n",
       "    </tr>\n",
       "    <tr>\n",
       "      <th>11501</th>\n",
       "      <td>Ipatov, Alexander</td>\n",
       "      <td>9</td>\n",
       "      <td>1993</td>\n",
       "      <td>2659</td>\n",
       "    </tr>\n",
       "    <tr>\n",
       "      <th>11502</th>\n",
       "      <td>Xiong, Jeffery</td>\n",
       "      <td>13</td>\n",
       "      <td>2000</td>\n",
       "      <td>2658</td>\n",
       "    </tr>\n",
       "    <tr>\n",
       "      <th>11503</th>\n",
       "      <td>Ganguly, Surya Shekhar</td>\n",
       "      <td>9</td>\n",
       "      <td>1983</td>\n",
       "      <td>2658</td>\n",
       "    </tr>\n",
       "    <tr>\n",
       "      <th>11504</th>\n",
       "      <td>Zvjaginsev, Vadim</td>\n",
       "      <td>8</td>\n",
       "      <td>1976</td>\n",
       "      <td>2658</td>\n",
       "    </tr>\n",
       "    <tr>\n",
       "      <th>11505</th>\n",
       "      <td>Kovalenko, Igor</td>\n",
       "      <td>17</td>\n",
       "      <td>1988</td>\n",
       "      <td>2656</td>\n",
       "    </tr>\n",
       "    <tr>\n",
       "      <th>11506</th>\n",
       "      <td>Safarli, Eltaj</td>\n",
       "      <td>9</td>\n",
       "      <td>1992</td>\n",
       "      <td>2656</td>\n",
       "    </tr>\n",
       "    <tr>\n",
       "      <th>11507</th>\n",
       "      <td>Shirov, Alexei</td>\n",
       "      <td>9</td>\n",
       "      <td>1972</td>\n",
       "      <td>2656</td>\n",
       "    </tr>\n",
       "    <tr>\n",
       "      <th>11508</th>\n",
       "      <td>Granda Zuniga, Julio E</td>\n",
       "      <td>4</td>\n",
       "      <td>1967</td>\n",
       "      <td>2656</td>\n",
       "    </tr>\n",
       "    <tr>\n",
       "      <th>11509</th>\n",
       "      <td>Robson, Ray</td>\n",
       "      <td>0</td>\n",
       "      <td>1994</td>\n",
       "      <td>2656</td>\n",
       "    </tr>\n",
       "    <tr>\n",
       "      <th>11510</th>\n",
       "      <td>Grandelius, Nils</td>\n",
       "      <td>10</td>\n",
       "      <td>1993</td>\n",
       "      <td>2655</td>\n",
       "    </tr>\n",
       "  </tbody>\n",
       "</table>\n",
       "<p>11511 rows × 4 columns</p>\n",
       "</div>"
      ],
      "text/plain": [
       "                              name  games  birth_year  rating\n",
       "0                  Kasparov, Garry     35        1963    2849\n",
       "1                Kramnik, Vladimir     23        1975    2770\n",
       "2               Anand, Viswanathan     23        1969    2762\n",
       "3            Morozevich, Alexander     28        1977    2756\n",
       "4                   Adams, Michael     38        1971    2755\n",
       "5                   Shirov, Alexei     33        1972    2746\n",
       "6                      Leko, Peter     29        1979    2743\n",
       "7                Ivanchuk, Vassily     10        1969    2719\n",
       "8                 Topalov, Veselin     11        1975    2707\n",
       "9                Krasenkow, Michal     61        1963    2702\n",
       "10                  Bareev, Evgeny     17        1966    2702\n",
       "11                 Karpov, Anatoly     11        1951    2699\n",
       "12            Kasimdzhanov, Rustam     44        1979    2690\n",
       "13                  Svidler, Peter      9        1976    2689\n",
       "14                  Gelfand, Boris     27        1968    2681\n",
       "15                 Short, Nigel D.     44        1965    2677\n",
       "16                    Smirin, Ilia     25        1968    2677\n",
       "17                   Dreev, Alexey     26        1969    2676\n",
       "18          Azmaiparashvili, Zurab      0        1960    2673\n",
       "19                  Ye, Jiangchuan     45        1960    2670\n",
       "20               Rublevsky, Sergei     24        1974    2670\n",
       "21                         Xu, Jun     75        1962    2668\n",
       "22                  Almasi, Zoltan     25        1976    2668\n",
       "23               Gurevich, Mikhail     50        1959    2667\n",
       "24            Khalifman, Alexander     35        1966    2667\n",
       "25               Movsesian, Sergei     48        1978    2666\n",
       "26                 Georgiev, Kiril     22        1965    2661\n",
       "27               Akopian, Vladimir     20        1971    2660\n",
       "28                   Peng, Xiaomin     76        1973    2657\n",
       "29                Nikolic, Predrag     24        1960    2657\n",
       "...                            ...    ...         ...     ...\n",
       "11481                 Smirin, Ilia      0        1968    2676\n",
       "11482               Van Wely, Loek     14        1972    2675\n",
       "11483               Sutovsky, Emil      9        1977    2675\n",
       "11484        Morozevich, Alexander      0        1977    2675\n",
       "11485                      Ni, Hua      3        1983    2674\n",
       "11486            Akobian, Varuzhan      9        1983    2673\n",
       "11487               Markus, Robert     16        1983    2672\n",
       "11488                 Amin, Bassem     10        1988    2672\n",
       "11489           Motylev, Alexander      7        1979    2672\n",
       "11490                  Adhiban, B.      9        1992    2670\n",
       "11491             Negi, Parimarjan      0        1993    2670\n",
       "11492             Laznicka, Viktor     13        1988    2669\n",
       "11493          Sasikiran, Krishnan      0        1981    2669\n",
       "11494            Akopian, Vladimir      0        1971    2667\n",
       "11495                   Hou, Yifan      9        1994    2666\n",
       "11496               Bareev, Evgeny      0        1966    2666\n",
       "11497  Iturrizaga Bonelli, Eduardo      0        1989    2663\n",
       "11498          Tkachiev, Vladislav      0        1973    2660\n",
       "11499               Mareco, Sandro     18        1987    2659\n",
       "11500        Anton Guijarro, David     11        1995    2659\n",
       "11501            Ipatov, Alexander      9        1993    2659\n",
       "11502               Xiong, Jeffery     13        2000    2658\n",
       "11503       Ganguly, Surya Shekhar      9        1983    2658\n",
       "11504            Zvjaginsev, Vadim      8        1976    2658\n",
       "11505              Kovalenko, Igor     17        1988    2656\n",
       "11506               Safarli, Eltaj      9        1992    2656\n",
       "11507               Shirov, Alexei      9        1972    2656\n",
       "11508       Granda Zuniga, Julio E      4        1967    2656\n",
       "11509                  Robson, Ray      0        1994    2656\n",
       "11510             Grandelius, Nils     10        1993    2655\n",
       "\n",
       "[11511 rows x 4 columns]"
      ]
     },
     "execution_count": 10,
     "metadata": {},
     "output_type": "execute_result"
    }
   ],
   "source": [
    "import pandas as pd\n",
    "pd.read_excel(\"Desktop/fide_historical.xlsx\")"
   ]
  },
  {
   "cell_type": "code",
   "execution_count": 11,
   "metadata": {
    "collapsed": true
   },
   "outputs": [],
   "source": [
    "\n",
    "from matplotlib import pyplot\n",
    "from sklearn.model_selection import KFold\n",
    "from sklearn.model_selection import cross_val_score\n",
    "from sklearn.linear_model import LogisticRegression\n",
    "from sklearn.tree import DecisionTreeClassifier\n",
    "from sklearn.neighbors import KNeighborsClassifier\n",
    "from sklearn.discriminant_analysis import LinearDiscriminantAnalysis\n",
    "from sklearn.naive_bayes import GaussianNB\n",
    "from sklearn.preprocessing import LabelEncoder\n",
    "from sklearn.svm import SVC"
   ]
  },
  {
   "cell_type": "code",
   "execution_count": 13,
   "metadata": {
    "collapsed": true
   },
   "outputs": [],
   "source": [
    "import pandas as pd\n",
    "names=['name','games','birth_year','rating']\n",
    "df=pd.read_excel(\"Desktop/fide_historical.xlsx\", names =names)\n",
    "array = df.values\n",
    "x = array[:,0:3]\n",
    "y = array[:,3]"
   ]
  },
  {
   "cell_type": "code",
   "execution_count": 14,
   "metadata": {
    "collapsed": true
   },
   "outputs": [],
   "source": [
    "name_new =x[:,0]\n",
    "name_1 = LabelEncoder()\n",
    "x[:,0] = name_1.fit_transform(x[:,0].astype('str'))"
   ]
  },
  {
   "cell_type": "code",
   "execution_count": 15,
   "metadata": {},
   "outputs": [
    {
     "name": "stdout",
     "output_type": "stream",
     "text": [
      "[[142 35 1963]\n",
      " [161 23 1975]\n",
      " [13 23 1969]\n",
      " ..., \n",
      " [102 4 1967]\n",
      " [257 0 1994]\n",
      " [103 10 1993]]\n"
     ]
    }
   ],
   "source": [
    "print(x)\n"
   ]
  },
  {
   "cell_type": "code",
   "execution_count": 16,
   "metadata": {},
   "outputs": [
    {
     "data": {
      "text/html": [
       "<div>\n",
       "<style>\n",
       "    .dataframe thead tr:only-child th {\n",
       "        text-align: right;\n",
       "    }\n",
       "\n",
       "    .dataframe thead th {\n",
       "        text-align: left;\n",
       "    }\n",
       "\n",
       "    .dataframe tbody tr th {\n",
       "        vertical-align: top;\n",
       "    }\n",
       "</style>\n",
       "<table border=\"1\" class=\"dataframe\">\n",
       "  <thead>\n",
       "    <tr style=\"text-align: right;\">\n",
       "      <th></th>\n",
       "      <th>name</th>\n",
       "      <th>games</th>\n",
       "      <th>birth_year</th>\n",
       "      <th>rating</th>\n",
       "    </tr>\n",
       "  </thead>\n",
       "  <tbody>\n",
       "    <tr>\n",
       "      <th>0</th>\n",
       "      <td>Kasparov, Garry</td>\n",
       "      <td>35</td>\n",
       "      <td>1963</td>\n",
       "      <td>2849</td>\n",
       "    </tr>\n",
       "    <tr>\n",
       "      <th>1</th>\n",
       "      <td>Kramnik, Vladimir</td>\n",
       "      <td>23</td>\n",
       "      <td>1975</td>\n",
       "      <td>2770</td>\n",
       "    </tr>\n",
       "    <tr>\n",
       "      <th>2</th>\n",
       "      <td>Anand, Viswanathan</td>\n",
       "      <td>23</td>\n",
       "      <td>1969</td>\n",
       "      <td>2762</td>\n",
       "    </tr>\n",
       "    <tr>\n",
       "      <th>3</th>\n",
       "      <td>Morozevich, Alexander</td>\n",
       "      <td>28</td>\n",
       "      <td>1977</td>\n",
       "      <td>2756</td>\n",
       "    </tr>\n",
       "    <tr>\n",
       "      <th>4</th>\n",
       "      <td>Adams, Michael</td>\n",
       "      <td>38</td>\n",
       "      <td>1971</td>\n",
       "      <td>2755</td>\n",
       "    </tr>\n",
       "  </tbody>\n",
       "</table>\n",
       "</div>"
      ],
      "text/plain": [
       "                    name  games  birth_year  rating\n",
       "0        Kasparov, Garry     35        1963    2849\n",
       "1      Kramnik, Vladimir     23        1975    2770\n",
       "2     Anand, Viswanathan     23        1969    2762\n",
       "3  Morozevich, Alexander     28        1977    2756\n",
       "4         Adams, Michael     38        1971    2755"
      ]
     },
     "execution_count": 16,
     "metadata": {},
     "output_type": "execute_result"
    }
   ],
   "source": [
    "df.head()"
   ]
  },
  {
   "cell_type": "code",
   "execution_count": 17,
   "metadata": {
    "collapsed": true
   },
   "outputs": [],
   "source": [
    "models =[]\n",
    "models.append(('LR', LogisticRegression()))\n",
    "models.append(('LDA', LinearDiscriminantAnalysis()))\n",
    "models.append(('KNN', KNeighborsClassifier()))\n",
    "models.append(('CART', DecisionTreeClassifier()))\n",
    "models.append(('NB', GaussianNB()))\n",
    "models.append(('SVM',SVC()))"
   ]
  },
  {
   "cell_type": "code",
   "execution_count": 23,
   "metadata": {},
   "outputs": [
    {
     "data": {
      "text/plain": [
       "array([2849, 2770, 2762, ..., 2656, 2656, 2655], dtype=object)"
      ]
     },
     "execution_count": 23,
     "metadata": {},
     "output_type": "execute_result"
    }
   ],
   "source": [
    "y"
   ]
  },
  {
   "cell_type": "code",
   "execution_count": 24,
   "metadata": {
    "collapsed": true
   },
   "outputs": [],
   "source": [
    "y = y.astype('int')"
   ]
  },
  {
   "cell_type": "code",
   "execution_count": 25,
   "metadata": {},
   "outputs": [
    {
     "data": {
      "text/plain": [
       "array([2849, 2770, 2762, ..., 2656, 2656, 2655])"
      ]
     },
     "execution_count": 25,
     "metadata": {},
     "output_type": "execute_result"
    }
   ],
   "source": [
    "y\n"
   ]
  },
  {
   "cell_type": "code",
   "execution_count": 26,
   "metadata": {},
   "outputs": [
    {
     "data": {
      "text/plain": [
       "array([[142, 35, 1963],\n",
       "       [161, 23, 1975],\n",
       "       [13, 23, 1969],\n",
       "       ..., \n",
       "       [102, 4, 1967],\n",
       "       [257, 0, 1994],\n",
       "       [103, 10, 1993]], dtype=object)"
      ]
     },
     "execution_count": 26,
     "metadata": {},
     "output_type": "execute_result"
    }
   ],
   "source": [
    "x\n"
   ]
  },
  {
   "cell_type": "code",
   "execution_count": 27,
   "metadata": {
    "collapsed": true
   },
   "outputs": [],
   "source": [
    "x = x.astype('int')\n"
   ]
  },
  {
   "cell_type": "code",
   "execution_count": 28,
   "metadata": {},
   "outputs": [
    {
     "data": {
      "text/plain": [
       "array([[ 142,   35, 1963],\n",
       "       [ 161,   23, 1975],\n",
       "       [  13,   23, 1969],\n",
       "       ..., \n",
       "       [ 102,    4, 1967],\n",
       "       [ 257,    0, 1994],\n",
       "       [ 103,   10, 1993]])"
      ]
     },
     "execution_count": 28,
     "metadata": {},
     "output_type": "execute_result"
    }
   ],
   "source": [
    "x\n"
   ]
  },
  {
   "cell_type": "code",
   "execution_count": 29,
   "metadata": {},
   "outputs": [
    {
     "data": {
      "text/plain": [
       "LogisticRegression(C=1.0, class_weight=None, dual=False, fit_intercept=True,\n",
       "          intercept_scaling=1, max_iter=100, multi_class='ovr', n_jobs=1,\n",
       "          penalty='l2', random_state=None, solver='liblinear', tol=0.0001,\n",
       "          verbose=0, warm_start=False)"
      ]
     },
     "execution_count": 29,
     "metadata": {},
     "output_type": "execute_result"
    }
   ],
   "source": [
    "lr = LogisticRegression()\n",
    "lr.fit(x,y)"
   ]
  },
  {
   "cell_type": "code",
   "execution_count": 30,
   "metadata": {},
   "outputs": [
    {
     "name": "stderr",
     "output_type": "stream",
     "text": [
      "/Users/apple/anaconda2/lib/python2.7/site-packages/sklearn/model_selection/_split.py:605: Warning: The least populated class in y has only 1 members, which is too few. The minimum number of members in any class cannot be less than n_splits=3.\n",
      "  % (min_groups, self.n_splits)), Warning)\n"
     ]
    },
    {
     "name": "stdout",
     "output_type": "stream",
     "text": [
      "LR: 0.014630 (0.002099)\n"
     ]
    },
    {
     "name": "stderr",
     "output_type": "stream",
     "text": [
      "/Users/apple/anaconda2/lib/python2.7/site-packages/sklearn/discriminant_analysis.py:442: UserWarning: The priors do not sum to 1. Renormalizing\n",
      "  UserWarning)\n"
     ]
    },
    {
     "name": "stdout",
     "output_type": "stream",
     "text": [
      "LDA: 0.012701 (0.001718)\n",
      "KNN: 0.015828 (0.005018)\n",
      "CART: 0.022352 (0.005539)\n",
      "NB: 0.015054 (0.001765)\n",
      "SVM: 0.021673 (0.006601)\n"
     ]
    }
   ],
   "source": [
    "results = []\n",
    "names = []\n",
    "scoring = 'accuracy'\n",
    "for name, model in models:\n",
    "    kFold = KFold(n_splits =10, random_state =7)\n",
    "    cv_results = cross_val_score(model, x, y,scoring = scoring)\n",
    "    results.append(cv_results)\n",
    "    names.append(name)\n",
    "    msg =\"%s: %f (%f)\" % (name, cv_results.mean(), cv_results.std())\n",
    "    print(msg)"
   ]
  },
  {
   "cell_type": "code",
   "execution_count": 31,
   "metadata": {},
   "outputs": [
    {
     "data": {
      "image/png": "[encoded data removed]",
      "text/plain": [
       "<matplotlib.figure.Figure at 0x10f449510>"
      ]
     },
     "metadata": {},
     "output_type": "display_data"
    }
   ],
   "source": [
    "fig = pyplot.figure()\n",
    "fig.suptitle('Algorithm Compariision')\n",
    "ax = fig.add_subplot(111)\n",
    "pyplot.boxplot(results)\n",
    "ax.set_xticklabels(names)\n",
    "pyplot.show()"
   ]
  },
  {
   "cell_type": "code",
   "execution_count": 32,
   "metadata": {
    "collapsed": true
   },
   "outputs": [],
   "source": [
    "neigh = KNeighborsClassifier()"
   ]
  },
  {
   "cell_type": "code",
   "execution_count": 33,
   "metadata": {},
   "outputs": [
    {
     "data": {
      "text/plain": [
       "KNeighborsClassifier(algorithm='auto', leaf_size=30, metric='minkowski',\n",
       "           metric_params=None, n_jobs=1, n_neighbors=5, p=2,\n",
       "           weights='uniform')"
      ]
     },
     "execution_count": 33,
     "metadata": {},
     "output_type": "execute_result"
    }
   ],
   "source": [
    "neigh.fit(x,y)"
   ]
  },
  {
   "cell_type": "code",
   "execution_count": 36,
   "metadata": {},
   "outputs": [
    {
     "name": "stdout",
     "output_type": "stream",
     "text": [
      "[2624]\n"
     ]
    }
   ],
   "source": [
    "print(neigh.predict([[142,35,1963]]))\n"
   ]
  },
  {
   "cell_type": "code",
   "execution_count": null,
   "metadata": {
    "collapsed": true
   },
   "outputs": [],
   "source": [
    "svm = KNeighborsClassifier()"
   ]
  }
 ],
 "metadata": {
  "kernelspec": {
   "display_name": "Python 2",
   "language": "python",
   "name": "python2"
  },
  "language_info": {
   "codemirror_mode": {
    "name": "ipython",
    "version": 2
   },
   "file_extension": ".py",
   "mimetype": "text/x-python",
   "name": "python",
   "nbconvert_exporter": "python",
   "pygments_lexer": "ipython2",
   "version": "2.7.14"
  }
 },
 "nbformat": 4,
 "nbformat_minor": 2
}
